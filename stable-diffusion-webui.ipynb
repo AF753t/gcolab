{
  "nbformat": 4,
  "nbformat_minor": 0,
  "metadata": {
    "colab": {
      "private_outputs": true,
      "provenance": [],
      "collapsed_sections": [
        "JqTLGWwrlGEn"
      ],
      "include_colab_link": true
    },
    "kernelspec": {
      "name": "python3",
      "display_name": "Python 3"
    },
    "language_info": {
      "name": "python"
    },
    "accelerator": "GPU",
    "gpuClass": "standard"
  },
  "cells": [
    {
      "cell_type": "markdown",
      "metadata": {
        "id": "view-in-github",
        "colab_type": "text"
      },
      "source": [
        "<a href=\"https://colab.research.google.com/github/AF753t/gcolab/blob/main/stable-diffusion-webui.ipynb\" target=\"_parent\"><img src=\"https://colab.research.google.com/assets/colab-badge.svg\" alt=\"Open In Colab\"/></a>"
      ]
    },
    {
      "cell_type": "markdown",
      "source": [
        "# Installation"
      ],
      "metadata": {
        "id": "JqTLGWwrlGEn"
      }
    },
    {
      "cell_type": "code",
      "execution_count": null,
      "metadata": {
        "id": "tiUveayfjsAl"
      },
      "outputs": [],
      "source": [
        "%env SD='/content/stable-diffusion-webui'\n",
        "%env DRIVE='/content/drive'\n",
        "!apt update -qq\n",
        "!apt -y -qq upgrade\n",
        "!apt install curl aria2 git wget python3 python3-pip gcc g++ -y -qq\n",
        "\n",
        "from google.colab import drive\n",
        "drive.mount('/content/drive')\n",
        "\n",
        "!curl 'https://raw.githubusercontent.com/AF753t/gcolab/main/stable-diffusion-webui.sh' -s -o script.sh\n",
        "!bash script.sh\n",
        "\n",
        "!rm -f script.sh"
      ]
    },
    {
      "cell_type": "markdown",
      "source": [
        "# RUN!"
      ],
      "metadata": {
        "id": "QxSTepdTmadT"
      }
    },
    {
      "cell_type": "code",
      "source": [
        "!./start.sh"
      ],
      "metadata": {
        "id": "c3o7vHvcmfhm"
      },
      "execution_count": null,
      "outputs": []
    }
  ]
}