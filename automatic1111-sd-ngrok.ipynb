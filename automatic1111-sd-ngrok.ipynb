{
  "cells": [
    {
      "cell_type": "code",
      "execution_count": null,
      "metadata": {
        "id": "WqvYrbvlJwFk"
      },
      "outputs": [],
      "source": [
        "%cd /content\n",
        "from google.colab import drive;\n",
        "drive.mount('/content/drive');\n",
        "\n",
        "%env SD_DRIVE_MODELS='/content/drive/MyDrive/Stable-diffusion/models';\n",
        "%env SD_DRIVE_OUTPUTS='/content/drive/MyDrive/Stable-diffusion/outputs'\n",
        "!apt update -qq\n",
        "!apt upgrade -y -qq\n",
        "!apt install -y -qq curl wget aria2 python3 python3-pip python3-venv git gcc g++\n",
        "!curl --retry 3 -s 'https://raw.githubusercontent.com/af753t/gcolab/main/automatic1111-sd-ngrok.sh' -o /tmp/script.sh && \\\n",
        "  bash /tmp/script.sh"
      ]
    },
    {
      "cell_type": "code",
      "execution_count": null,
      "metadata": {
        "id": "vExcvYKFJwFt"
      },
      "outputs": [],
      "source": [
        "!./start.sh "
      ]
    }
  ],
  "metadata": {
    "language_info": {
      "name": "python"
    },
    "orig_nbformat": 4,
    "colab": {
      "private_outputs": true,
      "provenance": []
    },
    "accelerator": "GPU",
    "gpuClass": "standard",
    "kernelspec": {
      "name": "python3",
      "display_name": "Python 3"
    }
  },
  "nbformat": 4,
  "nbformat_minor": 0
}